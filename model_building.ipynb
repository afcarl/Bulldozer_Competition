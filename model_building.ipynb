{
 "metadata": {
  "name": ""
 },
 "nbformat": 3,
 "nbformat_minor": 0,
 "worksheets": [
  {
   "cells": [
    {
     "cell_type": "code",
     "collapsed": false,
     "input": [
      "import seaborn as sb\n",
      "import pandas as pd\n",
      "import numpy as np\n",
      "import statsmodels.formula.api as sm\n",
      "from sklearn.linear_model import Ridge, LinearRegression, Lasso\n",
      "from sklearn.ensemble import GradientBoostingRegressor, GradientBoostingClassifier, RandomForestClassifier, RandomForestRegressor\n",
      "from sklearn.cross_validation import KFold\n",
      "from sklearn.linear_model import ElasticNet\n",
      "from sklearn.linear_model import LassoCV, RidgeCV\n",
      "from sklearn.cross_validation import train_test_split\n",
      "import pylab as pl\n",
      "from dateutil.parser import parse\n",
      "import datetime"
     ],
     "language": "python",
     "metadata": {},
     "outputs": [],
     "prompt_number": 2
    },
    {
     "cell_type": "code",
     "collapsed": false,
     "input": [
      "machine_header_descrip = pd.read_csv(\"./data/dictionary.csv\")\n",
      "machine_data = pd.read_csv(\"./data/data.csv\", parse_dates=['saledate'],  \n",
      "                          date_parser=lambda d: parse(d))\n",
      "machine_appendix = pd.read_csv(\"./data/machine_appendix.csv\")\n",
      "machine_data['Sale_Year'] = machine_data[\"saledate\"].apply(lambda x: x.year)\n",
      "machine_data['Sale_Month'] = machine_data[\"saledate\"].apply(lambda x: x.month)\n",
      "machine_data['Age'] = machine_data[\"Sale_Year\"] - machine_data[\"YearMade\"]\n",
      "\n",
      "machine_data_sub = machine_data[[\"SalePrice\", \"ModelID\", \"YearMade\", \"Sale_Year\", \"Sale_Month\", \"Age\"]]\n",
      "print machine_data_sub.head()"
     ],
     "language": "python",
     "metadata": {},
     "outputs": [
      {
       "output_type": "stream",
       "stream": "stdout",
       "text": [
        "   SalePrice  ModelID  YearMade  Sale_Year  Sale_Month  Age\n",
        "0      66000     3157      2004       2006          11    2\n",
        "1      57000       77      1996       2004           3    8\n",
        "2      11000    17311      2007       2009           7    2\n",
        "3      26500     4605      2004       2008          12    4\n",
        "4      21000     1937      1993       2004           8   11\n",
        "\n",
        "[5 rows x 6 columns]\n"
       ]
      },
      {
       "output_type": "stream",
       "stream": "stderr",
       "text": [
        "/Library/Python/2.7/site-packages/pandas-0.13.0_395_gef55e60-py2.7-macosx-10.9-intel.egg/pandas/io/parsers.py:1070: DtypeWarning: Columns (11,39,40,41) have mixed types. Specify dtype option on import or set low_memory=False.\n",
        "  data = self._reader.read(nrows)\n"
       ]
      }
     ],
     "prompt_number": 3
    },
    {
     "cell_type": "code",
     "collapsed": false,
     "input": [
      "xtrain, xtest, ytrain, ytest = train_test_split(machine_data_sub,machine_data_sub['Sale_Year'],test_size=0.01)\n",
      "xtest_df = pd.DataFrame(data=xtest,columns=machine_data_sub.columns)"
     ],
     "language": "python",
     "metadata": {},
     "outputs": [],
     "prompt_number": 15
    },
    {
     "cell_type": "code",
     "collapsed": false,
     "input": [
      "machine_data_sub['YearMade'].plot(kind='kde');"
     ],
     "language": "python",
     "metadata": {},
     "outputs": [
      {
       "metadata": {},
       "output_type": "display_data",
       "png": "[encoded data removed]",
       "text": [
        "<matplotlib.figure.Figure at 0x10a41a1d0>"
       ]
      }
     ],
     "prompt_number": 54
    },
    {
     "cell_type": "code",
     "collapsed": false,
     "input": [
      "machine_data_sub['Sale_Year'].plot(kind='kde');"
     ],
     "language": "python",
     "metadata": {},
     "outputs": [
      {
       "metadata": {},
       "output_type": "display_data",
       "png": "[encoded data removed]",
       "text": [
        "<matplotlib.figure.Figure at 0x10768f990>"
       ]
      }
     ],
     "prompt_number": 48
    },
    {
     "cell_type": "code",
     "collapsed": false,
     "input": [
      "# Check for collinearity, heteroscadasticity\n",
      "testing = xtest_df[xtest_df['ModelID']==3538]\n",
      "print testing.drop('ModelID',axis=1)\n",
      "# pd.scatter_matrix(testing,diagonal='kde',figsize=(20,20));"
     ],
     "language": "python",
     "metadata": {},
     "outputs": [
      {
       "output_type": "stream",
       "stream": "stdout",
       "text": [
        "      SalePrice  YearMade  Sale_Year  Sale_Month   Age\n",
        "193       24000      1996       2006          12    10\n",
        "490       27000      1996       2002           9     6\n",
        "492       22000      1000       2009           5  1009\n",
        "523       23000      1998       2002          11     4\n",
        "736       24500      1997       2004           2     7\n",
        "973       32000      1998       2001          10     3\n",
        "975       20000      2000       2010           9    10\n",
        "987       31000      1998       2001          12     3\n",
        "1066      32000      1998       2007           2     9\n",
        "1135      19500      1996       2009           9    13\n",
        "1244      33000      1997       2006           9     9\n",
        "1282      27000      1999       2008           5     9\n",
        "1414      38000      2000       2004           6     4\n",
        "1499      27300      2000       2008           3     8\n",
        "1564      32500      1997       2003           2     6\n",
        "1689      34000      1998       1999          12     1\n",
        "1749      31000      2000       2011          12    11\n",
        "1773      25000      1997       2012           3    15\n",
        "1798      21000      1996       2010           8    14\n",
        "2196      24000      1997       2007          10    10\n",
        "2230      29000      1998       2006           2     8\n",
        "2272      23500      2000       2004           5     4\n",
        "2374      17000      1997       2011          12    14\n",
        "2392      31000      1998       2001          12     3\n",
        "2393      19000      1998       2008           3    10\n",
        "2403      33000      2000       2007          10     7\n",
        "2404      30000      2001       2006           9     5\n",
        "2476      18000      1997       2009           6    12\n",
        "2536      27000      1999       2005           6     6\n",
        "2569      26250      1998       2007           9     9\n",
        "2598      35500      1998       2001           9     3\n",
        "2642      26000      1998       2005           3     7\n",
        "2683      32500      1999       2007           5     8\n",
        "2704      33500      1997       2001           9     4\n",
        "2986      20000      1999       2010          12    11\n",
        "3013      29000      1997       2001           5     4\n",
        "3065      25500      1999       2004           7     5\n",
        "3067      26000      1997       2000           4     3\n",
        "3122      28000      1996       2006           3    10\n",
        "3172      17500      1999       2009           4    10\n",
        "\n",
        "[40 rows x 5 columns]\n"
       ]
      }
     ],
     "prompt_number": 29
    },
    {
     "cell_type": "code",
     "collapsed": false,
     "input": [
      "# Linear regression OLS\n",
      "lin_results = sm.ols(formula='SalePrice ~ Age + Sale_Year + Sale_Month', data=xtest_df[xtest_df['ModelID']==3538]).fit()"
     ],
     "language": "python",
     "metadata": {},
     "outputs": [],
     "prompt_number": 19
    },
    {
     "cell_type": "code",
     "collapsed": false,
     "input": [
      "lin_results.summary()"
     ],
     "language": "python",
     "metadata": {},
     "outputs": [
      {
       "html": [
        "<table class=\"simpletable\">\n",
        "<caption>OLS Regression Results</caption>\n",
        "<tr>\n",
        "  <th>Dep. Variable:</th>        <td>SalePrice</td>    <th>  R-squared:         </th> <td>   0.326</td>\n",
        "</tr>\n",
        "<tr>\n",
        "  <th>Model:</th>                   <td>OLS</td>       <th>  Adj. R-squared:    </th> <td>   0.269</td>\n",
        "</tr>\n",
        "<tr>\n",
        "  <th>Method:</th>             <td>Least Squares</td>  <th>  F-statistic:       </th> <td>   5.792</td>\n",
        "</tr>\n",
        "<tr>\n",
        "  <th>Date:</th>             <td>Fri, 07 Feb 2014</td> <th>  Prob (F-statistic):</th>  <td>0.00245</td>\n",
        "</tr>\n",
        "<tr>\n",
        "  <th>Time:</th>                 <td>14:35:16</td>     <th>  Log-Likelihood:    </th> <td> -392.26</td>\n",
        "</tr>\n",
        "<tr>\n",
        "  <th>No. Observations:</th>      <td>    40</td>      <th>  AIC:               </th> <td>   792.5</td>\n",
        "</tr>\n",
        "<tr>\n",
        "  <th>Df Residuals:</th>          <td>    36</td>      <th>  BIC:               </th> <td>   799.3</td>\n",
        "</tr>\n",
        "<tr>\n",
        "  <th>Df Model:</th>              <td>     3</td>      <th>                     </th>     <td> </td>   \n",
        "</tr>\n",
        "</table>\n",
        "<table class=\"simpletable\">\n",
        "<tr>\n",
        "       <td></td>         <th>coef</th>     <th>std err</th>      <th>t</th>      <th>P>|t|</th> <th>[95.0% Conf. Int.]</th> \n",
        "</tr>\n",
        "<tr>\n",
        "  <th>Intercept</th>  <td>  1.76e+06</td> <td> 4.34e+05</td> <td>    4.057</td> <td> 0.000</td> <td>  8.8e+05  2.64e+06</td>\n",
        "</tr>\n",
        "<tr>\n",
        "  <th>Age</th>        <td>   -2.1933</td> <td>    4.772</td> <td>   -0.460</td> <td> 0.649</td> <td>  -11.871     7.484</td>\n",
        "</tr>\n",
        "<tr>\n",
        "  <th>Sale_Year</th>  <td> -864.0079</td> <td>  216.270</td> <td>   -3.995</td> <td> 0.000</td> <td>-1302.624  -425.392</td>\n",
        "</tr>\n",
        "<tr>\n",
        "  <th>Sale_Month</th> <td>  -28.4312</td> <td>  215.361</td> <td>   -0.132</td> <td> 0.896</td> <td> -465.203   408.340</td>\n",
        "</tr>\n",
        "</table>\n",
        "<table class=\"simpletable\">\n",
        "<tr>\n",
        "  <th>Omnibus:</th>       <td> 1.968</td> <th>  Durbin-Watson:     </th> <td>   1.791</td>\n",
        "</tr>\n",
        "<tr>\n",
        "  <th>Prob(Omnibus):</th> <td> 0.374</td> <th>  Jarque-Bera (JB):  </th> <td>   1.609</td>\n",
        "</tr>\n",
        "<tr>\n",
        "  <th>Skew:</th>          <td> 0.334</td> <th>  Prob(JB):          </th> <td>   0.447</td>\n",
        "</tr>\n",
        "<tr>\n",
        "  <th>Kurtosis:</th>      <td> 2.278</td> <th>  Cond. No.          </th> <td>1.19e+06</td>\n",
        "</tr>\n",
        "</table>"
       ],
       "metadata": {},
       "output_type": "pyout",
       "prompt_number": 20,
       "text": [
        "<class 'statsmodels.iolib.summary.Summary'>\n",
        "\"\"\"\n",
        "                            OLS Regression Results                            \n",
        "==============================================================================\n",
        "Dep. Variable:              SalePrice   R-squared:                       0.326\n",
        "Model:                            OLS   Adj. R-squared:                  0.269\n",
        "Method:                 Least Squares   F-statistic:                     5.792\n",
        "Date:                Fri, 07 Feb 2014   Prob (F-statistic):            0.00245\n",
        "Time:                        14:35:16   Log-Likelihood:                -392.26\n",
        "No. Observations:                  40   AIC:                             792.5\n",
        "Df Residuals:                      36   BIC:                             799.3\n",
        "Df Model:                           3                                         \n",
        "==============================================================================\n",
        "                 coef    std err          t      P>|t|      [95.0% Conf. Int.]\n",
        "------------------------------------------------------------------------------\n",
        "Intercept    1.76e+06   4.34e+05      4.057      0.000       8.8e+05  2.64e+06\n",
        "Age           -2.1933      4.772     -0.460      0.649       -11.871     7.484\n",
        "Sale_Year   -864.0079    216.270     -3.995      0.000     -1302.624  -425.392\n",
        "Sale_Month   -28.4312    215.361     -0.132      0.896      -465.203   408.340\n",
        "==============================================================================\n",
        "Omnibus:                        1.968   Durbin-Watson:                   1.791\n",
        "Prob(Omnibus):                  0.374   Jarque-Bera (JB):                1.609\n",
        "Skew:                           0.334   Prob(JB):                        0.447\n",
        "Kurtosis:                       2.278   Cond. No.                     1.19e+06\n",
        "==============================================================================\n",
        "\n",
        "Warnings:\n",
        "[1] The condition number is large, 1.19e+06. This might indicate that there are\n",
        "strong multicollinearity or other numerical problems.\n",
        "\"\"\""
       ]
      }
     ],
     "prompt_number": 20
    },
    {
     "cell_type": "code",
     "collapsed": false,
     "input": [],
     "language": "python",
     "metadata": {},
     "outputs": [],
     "prompt_number": 16
    },
    {
     "cell_type": "code",
     "collapsed": false,
     "input": [
      "# Ridge regression\n",
      "ridge = Ridge()"
     ],
     "language": "python",
     "metadata": {},
     "outputs": [],
     "prompt_number": 8
    },
    {
     "cell_type": "code",
     "collapsed": false,
     "input": [
      "# LASSO regression\n",
      "lasso = Lasso()"
     ],
     "language": "python",
     "metadata": {},
     "outputs": []
    },
    {
     "cell_type": "code",
     "collapsed": false,
     "input": [],
     "language": "python",
     "metadata": {},
     "outputs": [],
     "prompt_number": 69
    },
    {
     "cell_type": "code",
     "collapsed": false,
     "input": [],
     "language": "python",
     "metadata": {},
     "outputs": []
    },
    {
     "cell_type": "code",
     "collapsed": false,
     "input": [
      "# Random forest"
     ],
     "language": "python",
     "metadata": {},
     "outputs": []
    }
   ],
   "metadata": {}
  }
 ]
}