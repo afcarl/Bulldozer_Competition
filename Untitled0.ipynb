{
 "metadata": {
  "name": ""
 },
 "nbformat": 3,
 "nbformat_minor": 0,
 "worksheets": [
  {
   "cells": [
    {
     "cell_type": "code",
     "collapsed": false,
     "input": [
      "from sklearn.cross_validation import KFold\n",
      "from sklearn.linear_model import LinearRegression, Lasso, Ridge, ElasticNet\n",
      "from sklearn.linear_model import LassoCV, RidgeCV\n",
      "from sklearn.cross_validation import train_test_split\n",
      "import numpy as np\n",
      "import pylab as pl\n",
      "\n",
      "from sklearn.datasets import load_boston\n"
     ],
     "language": "python",
     "metadata": {},
     "outputs": [],
     "prompt_number": 1
    },
    {
     "cell_type": "code",
     "collapsed": false,
     "input": [],
     "language": "python",
     "metadata": {},
     "outputs": []
    }
   ],
   "metadata": {}
  }
 ]
}