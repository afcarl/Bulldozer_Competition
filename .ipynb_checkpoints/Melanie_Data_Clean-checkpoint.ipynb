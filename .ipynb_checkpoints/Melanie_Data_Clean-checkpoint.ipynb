{
 "metadata": {
  "name": ""
 },
 "nbformat": 3,
 "nbformat_minor": 0,
 "worksheets": [
  {
   "cells": [
    {
     "cell_type": "code",
     "collapsed": false,
     "input": [
      "from sklearn.cross_validation import KFold\n",
      "from sklearn.linear_model import LinearRegression, Lasso, Ridge, ElasticNet\n",
      "from sklearn.linear_model import LassoCV, RidgeCV\n",
      "from sklearn.cross_validation import train_test_split\n",
      "import numpy as np\n",
      "import pylab as pl\n",
      "import pandas as pd\n",
      "\n",
      "from dateutil.parser import parse\n",
      "import datetime\n",
      "import seaborn as sb"
     ],
     "language": "python",
     "metadata": {},
     "outputs": [],
     "prompt_number": 12
    },
    {
     "cell_type": "code",
     "collapsed": false,
     "input": [
      "machine_header_descrip = pd.read_csv(\"./data/dictionary.csv\")\n",
      "machine_data = pd.read_csv(\"./data/data.csv\", parse_dates=['saledate'],  \n",
      "                           date_parser=lambda d: parse(d))\n",
      "appdx = pd.read_csv(\"./data/machine_appendix.csv\")"
     ],
     "language": "python",
     "metadata": {},
     "outputs": [],
     "prompt_number": 11
    },
    {
     "cell_type": "code",
     "collapsed": false,
     "input": [
      "machine_data[\"saledate\"][0].year"
     ],
     "language": "python",
     "metadata": {},
     "outputs": [
      {
       "metadata": {},
       "output_type": "pyout",
       "prompt_number": 4,
       "text": [
        "2006"
       ]
      }
     ],
     "prompt_number": 4
    },
    {
     "cell_type": "code",
     "collapsed": false,
     "input": [
      "headers = np.array(machine_data.columns.values)\n",
      "print headers"
     ],
     "language": "python",
     "metadata": {},
     "outputs": [
      {
       "output_type": "stream",
       "stream": "stdout",
       "text": [
        "['SalesID' 'SalePrice' 'MachineID' 'ModelID' 'datasource' 'auctioneerID'\n",
        " 'YearMade' 'MachineHoursCurrentMeter' 'UsageBand' 'saledate' 'fiModelDesc'\n",
        " 'fiBaseModel' 'fiSecondaryDesc' 'fiModelSeries' 'fiModelDescriptor'\n",
        " 'ProductSize' 'fiProductClassDesc' 'state' 'ProductGroup'\n",
        " 'ProductGroupDesc' 'Drive_System' 'Enclosure' 'Forks' 'Pad_Type'\n",
        " 'Ride_Control' 'Stick' 'Transmission' 'Turbocharged' 'Blade_Extension'\n",
        " 'Blade_Width' 'Enclosure_Type' 'Engine_Horsepower' 'Hydraulics'\n",
        " 'Pushblock' 'Ripper' 'Scarifier' 'Tip_Control' 'Tire_Size' 'Coupler'\n",
        " 'Coupler_System' 'Grouser_Tracks' 'Hydraulics_Flow' 'Track_Type'\n",
        " 'Undercarriage_Pad_Width' 'Stick_Length' 'Thumb' 'Pattern_Changer'\n",
        " 'Grouser_Type' 'Backhoe_Mounting' 'Blade_Type' 'Travel_Controls'\n",
        " 'Differential_Type' 'Steering_Controls']\n"
       ]
      }
     ],
     "prompt_number": 5
    },
    {
     "cell_type": "code",
     "collapsed": false,
     "input": [
      "print machine_data.head()"
     ],
     "language": "python",
     "metadata": {},
     "outputs": [
      {
       "output_type": "stream",
       "stream": "stdout",
       "text": [
        "<class 'pandas.core.frame.DataFrame'>\n",
        "Int64Index: 5 entries, 0 to 4\n",
        "Data columns (total 53 columns):\n",
        "SalesID                     5  non-null values\n",
        "SalePrice                   5  non-null values\n",
        "MachineID                   5  non-null values\n",
        "ModelID                     5  non-null values\n",
        "datasource                  5  non-null values\n",
        "auctioneerID                5  non-null values\n",
        "YearMade                    5  non-null values\n",
        "MachineHoursCurrentMeter    5  non-null values\n",
        "UsageBand                   5  non-null values\n",
        "saledate                    5  non-null values\n",
        "fiModelDesc                 5  non-null values\n",
        "fiBaseModel                 5  non-null values\n",
        "fiSecondaryDesc             4  non-null values\n",
        "fiModelSeries               1  non-null values\n",
        "fiModelDescriptor           1  non-null values\n",
        "ProductSize                 2  non-null values\n",
        "fiProductClassDesc          5  non-null values\n",
        "state                       5  non-null values\n",
        "ProductGroup                5  non-null values\n",
        "ProductGroupDesc            5  non-null values\n",
        "Drive_System                1  non-null values\n",
        "Enclosure                   5  non-null values\n",
        "Forks                       4  non-null values\n",
        "Pad_Type                    1  non-null values\n",
        "Ride_Control                3  non-null values\n",
        "Stick                       1  non-null values\n",
        "Transmission                1  non-null values\n",
        "Turbocharged                1  non-null values\n",
        "Blade_Extension             0  non-null values\n",
        "Blade_Width                 0  non-null values\n",
        "Enclosure_Type              0  non-null values\n",
        "Engine_Horsepower           0  non-null values\n",
        "Hydraulics                  4  non-null values\n",
        "Pushblock                   0  non-null values\n",
        "Ripper                      0  non-null values\n",
        "Scarifier                   0  non-null values\n",
        "Tip_Control                 0  non-null values\n",
        "Tire_Size                   2  non-null values\n",
        "Coupler                     4  non-null values\n",
        "Coupler_System              1  non-null values\n",
        "Grouser_Tracks              1  non-null values\n",
        "Hydraulics_Flow             1  non-null values\n",
        "Track_Type                  1  non-null values\n",
        "Undercarriage_Pad_Width     1  non-null values\n",
        "Stick_Length                1  non-null values\n",
        "Thumb                       1  non-null values\n",
        "Pattern_Changer             1  non-null values\n",
        "Grouser_Type                1  non-null values\n",
        "Backhoe_Mounting            0  non-null values\n",
        "Blade_Type                  0  non-null values\n",
        "Travel_Controls             0  non-null values\n",
        "Differential_Type           2  non-null values\n",
        "Steering_Controls           2  non-null values\n",
        "dtypes: datetime64[ns](1), float64(3), int64(5), object(44)\n"
       ]
      },
      {
       "output_type": "stream",
       "stream": "stderr",
       "text": [
        "/Users/willow/anaconda/lib/python2.7/site-packages/pandas/core/config.py:570: DeprecationWarning: height has been deprecated.\n",
        "\n",
        "  warnings.warn(d.msg, DeprecationWarning)\n",
        "/Users/willow/anaconda/lib/python2.7/site-packages/pandas/core/config.py:570: DeprecationWarning: height has been deprecated.\n",
        "\n",
        "  warnings.warn(d.msg, DeprecationWarning)\n"
       ]
      }
     ],
     "prompt_number": 6
    },
    {
     "cell_type": "code",
     "collapsed": false,
     "input": [
      "#Check type of cells\n",
      "def check_type(col):\n",
      "    print col, type(machine_data[col][0])\n",
      "\n",
      "col = [\"SalePrice\", \"ModelID\", \"YearMade\", \"saledate\"]\n",
      "\n",
      "for c in col:\n",
      "    check_type(c)\n",
      "\n",
      "# for head in headers:\n",
      "#     check_type(head)"
     ],
     "language": "python",
     "metadata": {},
     "outputs": [
      {
       "output_type": "stream",
       "stream": "stdout",
       "text": [
        "SalePrice <type 'numpy.float64'>\n",
        "ModelID <type 'numpy.int64'>\n",
        "YearMade <type 'numpy.int64'>\n",
        "saledate <class 'pandas.tslib.Timestamp'>\n"
       ]
      }
     ],
     "prompt_number": 7
    },
    {
     "cell_type": "code",
     "collapsed": false,
     "input": [
      "# look for double sales date\n",
      "# Pull year and change to int64 and pull month\n",
      "# build date after sales date or prior to 1950 - they just put 1000\n",
      "\n",
      "print machine_data[\"saledate\"].head()\n",
      "print machine_data[\"YearMade\"].head()"
     ],
     "language": "python",
     "metadata": {},
     "outputs": [
      {
       "output_type": "stream",
       "stream": "stdout",
       "text": [
        "0   2006-11-16 00:00:00\n",
        "1   2004-03-26 00:00:00\n",
        "2   2009-07-23 00:00:00\n",
        "3   2008-12-18 00:00:00\n",
        "4   2004-08-26 00:00:00\n",
        "Name: saledate, dtype: datetime64[ns]\n",
        "0    2004\n",
        "1    1996\n",
        "2    2007\n",
        "3    2004\n",
        "4    1993\n",
        "Name: YearMade, dtype: int64\n"
       ]
      }
     ],
     "prompt_number": 8
    },
    {
     "cell_type": "code",
     "collapsed": false,
     "input": [
      "# Create columns for sale year, month and age for year minus year made\n",
      "machine_data['Sale_Year'] = machine_data[\"saledate\"].apply(lambda x: x.year)\n",
      "machine_data['Sale_Month'] = machine_data[\"saledate\"].apply(lambda x: x.month)\n",
      "machine_data['Age'] = machine_data[\"Sale_Year\"] - machine_data[\"YearMade\"]\n",
      "\n",
      "machine_data_sub = machine_data[[\"SalePrice\", \"ModelID\", \"YearMade\", \"Sale_Year\", \"Sale_Month\", \"Age\"]]\n",
      "print machine_data_sub.head()"
     ],
     "language": "python",
     "metadata": {},
     "outputs": [
      {
       "output_type": "stream",
       "stream": "stdout",
       "text": [
        "   SalePrice  ModelID  YearMade  Sale_Year  Sale_Month  Age\n",
        "0      66000     3157      2004       2006          11    2\n",
        "1      57000       77      1996       2004           3    8\n",
        "2      11000    17311      2007       2009           7    2\n",
        "3      26500     4605      2004       2008          12    4\n",
        "4      21000     1937      1993       2004           8   11\n"
       ]
      },
      {
       "output_type": "stream",
       "stream": "stderr",
       "text": [
        "/Users/willow/anaconda/lib/python2.7/site-packages/pandas/core/config.py:570: DeprecationWarning: height has been deprecated.\n",
        "\n",
        "  warnings.warn(d.msg, DeprecationWarning)\n"
       ]
      }
     ],
     "prompt_number": 10
    },
    {
     "cell_type": "code",
     "collapsed": false,
     "input": [
      "# Code from previous example pulled for ref on date parse - skipped cause parsed when pulled data in \n",
      "# def parse_date(raw_date):\n",
      "#     return datetime.datetime.strptime(raw_date, '%m/%d/%Y').date()\n",
      "\n",
      "col = [\"SalePrice\", \"ModelID\", \"YearMade\", \"Sale_Year\", \"Sale_Month\", \"Age\"]\n",
      "def check_null(col):\n",
      "    for c in col:\n",
      "        if pd.isnull(machine_data_sub[col]) == True:\n",
      "            print c, \"Missing Data\"\n",
      "    \n",
      "check_null(col)"
     ],
     "language": "python",
     "metadata": {},
     "outputs": [
      {
       "output_type": "stream",
       "stream": "stdout",
       "text": [
        "SalePrice Missing Data\n",
        "ModelID Missing Data\n",
        "YearMade"
       ]
      },
      {
       "output_type": "stream",
       "stream": "stdout",
       "text": [
        " Missing Data\n",
        "Sale_Year Missing Data\n",
        "Sale_Month"
       ]
      },
      {
       "output_type": "stream",
       "stream": "stdout",
       "text": [
        " Missing Data\n",
        "Age Missing Data\n"
       ]
      }
     ],
     "prompt_number": 18
    },
    {
     "cell_type": "code",
     "collapsed": false,
     "input": [],
     "language": "python",
     "metadata": {},
     "outputs": []
    }
   ],
   "metadata": {}
  }
 ]
}