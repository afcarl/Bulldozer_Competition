{
 "metadata": {
  "name": ""
 },
 "nbformat": 3,
 "nbformat_minor": 0,
 "worksheets": [
  {
   "cells": [
    {
     "cell_type": "code",
     "collapsed": false,
     "input": [
      "from sklearn.cross_validation import KFold\n",
      "from sklearn.linear_model import LinearRegression, Lasso, Ridge, ElasticNet\n",
      "from sklearn.linear_model import LassoCV, RidgeCV\n",
      "from sklearn.cross_validation import train_test_split\n",
      "from sklearn.preprocessing import scale\n",
      "import numpy as np\n",
      "import pylab as pl\n",
      "import pandas as pd\n",
      "\n",
      "from dateutil.parser import parse\n",
      "import datetime\n",
      "#import seaborn as sb\n",
      "#from import_data import machine_data_sub\n",
      "\n",
      "machine_header_descrip = pd.read_csv(\"./data/dictionary.csv\")\n",
      "machine_data = pd.read_csv(\"./data/data.csv\", parse_dates=['saledate'],  \n",
      "                          date_parser=lambda d: parse(d))\n",
      "appdx = pd.read_csv(\"./data/machine_appendix.csv\")\n",
      "\n",
      "# Create columns for sale year, month and age for year minus year made\n",
      "machine_data['Sale_Year'] = machine_data[\"saledate\"].apply(lambda x: x.year)\n",
      "machine_data['Sale_Month'] = machine_data[\"saledate\"].apply(lambda x: x.month)\n",
      "machine_data['Age'] = machine_data[\"Sale_Year\"] - machine_data[\"YearMade\"]\n",
      "\n",
      "machine_data_sub = machine_data[[\"SalePrice\", \"ModelID\", \"YearMade\", \"Sale_Year\", \"Sale_Month\", \"Age\"]]\n",
      "machine_data_sub = machine_data_sub[[\"SalePrice\", \"ModelID\", \"YearMade\", \"Sale_Year\", \"Sale_Month\", \"Age\"]]\n",
      "# machine_data_sub = machine_data_sub[machine_data_sub[\"Age\"] >= 0]\n",
      "# machine_data_sub = machine_data_sub[machine_data_sub[\"Age\"] <= 15]\n",
      "\n",
      "\n",
      "# coefficients = {}\n",
      "# model_ids = machine_data_sub[\"ModelID\"].unique()\n",
      "# for model in model_ids:\n",
      "#     X = machine_data_sub[machine_data_sub[\"ModelID\"] == model][[\"Age\"]] #\"YearMade\", \"Sale_Year\", \"Sale_Month\", \n",
      "#     Y = machine_data_sub[machine_data_sub[\"ModelID\"] == model]['SalePrice']\n",
      "    \n",
      "#     linear = LinearRegression()\n",
      "#     linear.fit(X,Y)\n",
      "#     coefficients[model] = linear.coef_\n",
      "\n",
      "scaled = machine_data_sub.copy()\n",
      "scaled[[\"SalePrice\", \"YearMade\", \"Sale_Month\"]] = scale(machine_data_sub[[\"SalePrice\", \"YearMade\", \"Sale_Month\"]],axis=0)\n",
      "    \n"
     ],
     "language": "python",
     "metadata": {},
     "outputs": [],
     "prompt_number": 50
    },
    {
     "cell_type": "code",
     "collapsed": false,
     "input": [
      "coefficients = {}\n",
      "column = \"Sale_Year\"\n",
      "collection = scaled[column].unique()\n",
      "for i in collection:\n",
      "    X = scaled[scaled[column] == i][[\"YearMade\", \"Sale_Month\"]]\n",
      "    Y = scaled[scaled[column] == i]['SalePrice']\n",
      "    \n",
      "    linear = LinearRegression()\n",
      "    linear.fit(X,Y)\n",
      "    coefficients[i] = linear.coef_\n",
      "\n",
      "print coefficients"
     ],
     "language": "python",
     "metadata": {},
     "outputs": [
      {
       "output_type": "stream",
       "stream": "stdout",
       "text": [
        "{1989: array([  1.74058281e+01,   2.54523847e-03]), 1990: array([ 17.56601259,  -0.07934221]), 1991: array([ 2.48012275, -0.03219879]), 1992: array([ 15.43507651,  -0.02867611]), 1993: array([ 16.91151571,   0.01799527]), 1994: array([ 0.1965744 , -0.00570475]), 1995: array([ 0.17417918, -0.00523542]), 1996: array([ 0.19623769, -0.00430953]), 1997: array([ 0.2088777 , -0.01815679]), 1998: array([ 0.21407853, -0.04975147]), 1999: array([ 0.17742755, -0.0427183 ]), 2000: array([ 0.19477538, -0.04493343]), 2001: array([ 0.19076823, -0.05884098]), 2002: array([ 0.17976583, -0.01898497]), 2003: array([ 0.18383451, -0.01935456]), 2004: array([ 0.18697655, -0.03350654]), 2005: array([ 0.20020059, -0.04279982]), 2006: array([ 0.20904781, -0.03335919]), 2007: array([ 0.17051053, -0.02299006]), 2008: array([ 0.14267363, -0.07983413]), 2009: array([ 0.10297505, -0.02289873]), 2010: array([ 0.10306194, -0.03929488]), 2011: array([ 0.13063656, -0.00119991]), 2012: array([ 0.10720264, -0.31191875])}\n"
       ]
      }
     ],
     "prompt_number": 51
    },
    {
     "cell_type": "code",
     "collapsed": false,
     "input": [
      "model = coefficients\n"
     ],
     "language": "python",
     "metadata": {},
     "outputs": [
      {
       "output_type": "stream",
       "stream": "stdout",
       "text": [
        "{1989: array([  1.74058281e+01,   2.54523847e-03]), 1990: array([ 17.56601259,  -0.07934221]), 1991: array([ 2.48012275, -0.03219879]), 1992: array([ 15.43507651,  -0.02867611]), 1993: array([ 16.91151571,   0.01799527]), 1994: array([ 0.1965744 , -0.00570475]), 1995: array([ 0.17417918, -0.00523542]), 1996: array([ 0.19623769, -0.00430953]), 1997: array([ 0.2088777 , -0.01815679]), 1998: array([ 0.21407853, -0.04975147]), 1999: array([ 0.17742755, -0.0427183 ]), 2000: array([ 0.19477538, -0.04493343]), 2001: array([ 0.19076823, -0.05884098]), 2002: array([ 0.17976583, -0.01898497]), 2003: array([ 0.18383451, -0.01935456]), 2004: array([ 0.18697655, -0.03350654]), 2005: array([ 0.20020059, -0.04279982]), 2006: array([ 0.20904781, -0.03335919]), 2007: array([ 0.17051053, -0.02299006]), 2008: array([ 0.14267363, -0.07983413]), 2009: array([ 0.10297505, -0.02289873]), 2010: array([ 0.10306194, -0.03929488]), 2011: array([ 0.13063656, -0.00119991]), 2012: array([ 0.10720264, -0.31191875])}\n"
       ]
      }
     ],
     "prompt_number": 52
    },
    {
     "cell_type": "code",
     "collapsed": false,
     "input": [
      "# How to solve this\n",
      "def create_scaled_subfile(filename):\n",
      "    machine_data = pd.read_csv(filename, parse_dates=['saledate'],  \n",
      "                          date_parser=lambda d: parse(d))\n",
      "  \n",
      "    machine_data['Sale_Year'] = machine_data[\"saledate\"].apply(lambda x: x.year)\n",
      "    machine_data['Sale_Month'] = machine_data[\"saledate\"].apply(lambda x: x.month)\n",
      "    machine_data['Age'] = machine_data[\"Sale_Year\"] - machine_data[\"YearMade\"]\n",
      "\n",
      "    machine_data_sub = machine_data[[\"SalePrice\", \"ModelID\", \"YearMade\", \"Sale_Year\", \"Sale_Month\", \"Age\"]]\n",
      "    machine_data_sub = machine_data_sub[[\"SalePrice\", \"ModelID\", \"YearMade\", \"Sale_Year\", \"Sale_Month\", \"Age\"]]\n",
      "\n",
      "    scaled = machine_data_sub.copy()\n",
      "    scaled[[\"SalePrice\", \"YearMade\", \"Sale_Month\"]] = scale(machine_data_sub[[\"SalePrice\", \"YearMade\", \"Sale_Month\"]],axis=0)\n",
      "\n",
      "    return scaled\n",
      "\n",
      "\n",
      "def predict_price(data, model):\n",
      "        for i, year in enumerate(data[\"YearMade\"]):\n",
      "            year_made, month = model[year]\n",
      "            data[\"Prediction\"][i] = year_made * data[\"YearMade\"][i] + month * data[\"Sale_Month\"][i]\n",
      "         return data\n"
     ],
     "language": "python",
     "metadata": {},
     "outputs": []
    },
    {
     "cell_type": "code",
     "collapsed": false,
     "input": [
      "#Check type of cells\n",
      "def check_type(col):\n",
      "    print col, type(machine_data[col][0])\n",
      "\n",
      "col = [\"SalePrice\", \"ModelID\", \"YearMade\", \"saledate\"]\n",
      "\n",
      "for c in col:\n",
      "    check_type(c)\n",
      "\n",
      "# for head in headers:\n",
      "#     check_type(head)"
     ],
     "language": "python",
     "metadata": {},
     "outputs": [
      {
       "output_type": "stream",
       "stream": "stdout",
       "text": [
        "SalePrice <type 'numpy.float64'>\n",
        "ModelID <type 'numpy.int64'>\n",
        "YearMade <type 'numpy.int64'>\n",
        "saledate <class 'pandas.tslib.Timestamp'>\n"
       ]
      }
     ],
     "prompt_number": 5
    },
    {
     "cell_type": "code",
     "collapsed": false,
     "input": [
      "# Code from previous example pulled for ref on date parse - skipped cause parsed when pulled data in \n",
      "# def parse_date(raw_date):\n",
      "#     return datetime.datetime.strptime(raw_date, '%m/%d/%Y').date()\n",
      "\n",
      "# col = [\"SalePrice\", \"ModelID\", \"YearMade\", \"Sale_Year\", \"Sale_Month\", \"Age\"]\n",
      "# def check_null(col):\n",
      "#     for c in col:\n",
      "#         if len(machine_data_sub[c][machine_data_sub[c].isnull()]) > 0:\n",
      "#             print machine_data_sub[c][machine_data_sub[c].isnull()]\n",
      "\n",
      "# check_null(col)"
     ],
     "language": "python",
     "metadata": {},
     "outputs": [],
     "prompt_number": 53
    },
    {
     "cell_type": "code",
     "collapsed": false,
     "input": [
      "def cost_lin_reg(x, y, theta):\n",
      "    return np.dot(theta, x.T) - y\n",
      "\n",
      "def gradient_descent(_X, _Y, _cost, _theta = [0,0,0,0,0,0], alpha=0.1, iterations=1000):\n",
      "    sample_sze = len(_Y)\n",
      "    for i in range(iterations):\n",
      "        theta = theta - (alpha/m) * np.dot(cost(x, y, theta), x)\n",
      "    return theta\n",
      "\n",
      "init_theta = np.asarray([0,0,0])\n",
      "print 'Gradient Descent Coef = ', grad_desc(X_norm, Y, cost_lin_reg, init_theta)\n",
      "print 'Library OLS Coef      = ', f.params"
     ],
     "language": "python",
     "metadata": {},
     "outputs": []
    }
   ],
   "metadata": {}
  }
 ]
}